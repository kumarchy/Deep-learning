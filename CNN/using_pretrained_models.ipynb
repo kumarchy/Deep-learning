{
  "nbformat": 4,
  "nbformat_minor": 0,
  "metadata": {
    "colab": {
      "provenance": []
    },
    "kernelspec": {
      "name": "python3",
      "display_name": "Python 3"
    },
    "language_info": {
      "name": "python"
    }
  },
  "cells": [
    {
      "cell_type": "code",
      "execution_count": 2,
      "metadata": {
        "id": "y2Iiz0gdYtgr"
      },
      "outputs": [],
      "source": [
        "from tensorflow.keras.applications.resnet50 import ResNet50\n",
        "from tensorflow.keras.preprocessing import image\n",
        "from tensorflow.keras.applications.resnet50 import preprocess_input,decode_predictions\n",
        "import numpy as np"
      ]
    },
    {
      "cell_type": "code",
      "source": [
        "model=ResNet50(weights='imagenet')##here we want the weight obtained during the training of the imagenet dataset\n"
      ],
      "metadata": {
        "colab": {
          "base_uri": "https://localhost:8080/"
        },
        "id": "RFUeg15JZHlV",
        "outputId": "f5643794-272a-41ba-c790-e1b345b7a624"
      },
      "execution_count": 3,
      "outputs": [
        {
          "output_type": "stream",
          "name": "stdout",
          "text": [
            "Downloading data from https://storage.googleapis.com/tensorflow/keras-applications/resnet/resnet50_weights_tf_dim_ordering_tf_kernels.h5\n",
            "102967424/102967424 [==============================] - 4s 0us/step\n"
          ]
        }
      ]
    },
    {
      "cell_type": "code",
      "source": [
        "img_path='/content/chair.jpeg'\n",
        "img=image.load_img(img_path,target_size=(224,224))\n",
        "x=image.img_to_array(img)\n",
        "x=np.expand_dims(x,axis=0)##converting into the batches\n",
        "x=preprocess_input(x)## preprocessing the input image"
      ],
      "metadata": {
        "id": "lYmXIjOkaaAK"
      },
      "execution_count": 11,
      "outputs": []
    },
    {
      "cell_type": "code",
      "source": [
        "preds=model.predict(x)\n",
        "print('predicted:',decode_predictions(preds,top=3)[0]) ## want to see the top 3 prediction\n"
      ],
      "metadata": {
        "colab": {
          "base_uri": "https://localhost:8080/"
        },
        "id": "gE5BwBy5bK77",
        "outputId": "d47a864e-30ad-4bb4-ec5c-eebc633a5acb"
      },
      "execution_count": 12,
      "outputs": [
        {
          "output_type": "stream",
          "name": "stdout",
          "text": [
            "1/1 [==============================] - 0s 198ms/step\n",
            "predicted: [('n02804414', 'bassinet', 0.2878424), ('n04099969', 'rocking_chair', 0.28206378), ('n03125729', 'cradle', 0.22236586)]\n"
          ]
        }
      ]
    }
  ]
}